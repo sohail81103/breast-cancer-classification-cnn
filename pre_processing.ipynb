{
 "cells": [
  {
   "cell_type": "code",
   "execution_count": 1,
   "id": "d059131e-62bc-4d8d-b29f-6da34a8732e2",
   "metadata": {},
   "outputs": [
    {
     "name": "stdout",
     "output_type": "stream",
     "text": [
      "✅ Dataset reorganized successfully!\n"
     ]
    }
   ],
   "source": [
    "import os\n",
    "import shutil\n",
    "import random\n",
    "\n",
    "# Set paths\n",
    "source_dir = \"breast_ultrasound_images\"\n",
    "target_dir = \"breast_cancer_dataset\"\n",
    "\n",
    "# Classes to include (ignore 'normal' for now)\n",
    "classes = [\"benign\", \"malignant\"]\n",
    "\n",
    "# Split ratios\n",
    "train_split = 0.7\n",
    "val_split = 0.15\n",
    "test_split = 0.15\n",
    "\n",
    "# Create target folder structure\n",
    "for split in [\"train\", \"val\", \"test\"]:\n",
    "    for cls in classes:\n",
    "        os.makedirs(os.path.join(target_dir, split, cls), exist_ok=True)\n",
    "\n",
    "# Function to split and copy\n",
    "def split_and_copy(class_name):\n",
    "    src_folder = os.path.join(source_dir, class_name)\n",
    "    images = os.listdir(src_folder)\n",
    "    random.shuffle(images)\n",
    "    \n",
    "    n_total = len(images)\n",
    "    n_train = int(train_split * n_total)\n",
    "    n_val = int(val_split * n_total)\n",
    "\n",
    "    train_files = images[:n_train]\n",
    "    val_files = images[n_train:n_train + n_val]\n",
    "    test_files = images[n_train + n_val:]\n",
    "\n",
    "    # Copy files\n",
    "    for file_list, split in [(train_files, \"train\"), (val_files, \"val\"), (test_files, \"test\")]:\n",
    "        for fname in file_list:\n",
    "            src_path = os.path.join(src_folder, fname)\n",
    "            dst_path = os.path.join(target_dir, split, class_name, fname)\n",
    "            shutil.copy(src_path, dst_path)\n",
    "\n",
    "# Apply to each class\n",
    "for cls in classes:\n",
    "    split_and_copy(cls)\n",
    "\n",
    "print(\"✅ Dataset reorganized successfully!\")\n"
   ]
  },
  {
   "cell_type": "code",
   "execution_count": null,
   "id": "5d66f20a-1e6a-41ec-91ff-4c2813cf9f9a",
   "metadata": {},
   "outputs": [],
   "source": []
  }
 ],
 "metadata": {
  "kernelspec": {
   "display_name": "Python [conda env:base] *",
   "language": "python",
   "name": "conda-base-py"
  },
  "language_info": {
   "codemirror_mode": {
    "name": "ipython",
    "version": 3
   },
   "file_extension": ".py",
   "mimetype": "text/x-python",
   "name": "python",
   "nbconvert_exporter": "python",
   "pygments_lexer": "ipython3",
   "version": "3.12.7"
  }
 },
 "nbformat": 4,
 "nbformat_minor": 5
}
